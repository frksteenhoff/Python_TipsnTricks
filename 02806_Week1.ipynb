{
 "cells": [
  {
   "cell_type": "markdown",
   "metadata": {},
   "source": [
    "# 02806 - Week 1\n",
    "*All content of Ex 0 described in 02805.* "
   ]
  },
  {
   "cell_type": "markdown",
   "metadata": {},
   "source": [
    "**Ex 1**: Create a list `a` that contains the numbers from $1$ to $1110$, incremented by one, using the `range` function."
   ]
  },
  {
   "cell_type": "code",
   "execution_count": 7,
   "metadata": {
    "collapsed": false
   },
   "outputs": [],
   "source": [
    "a = []\n",
    "for ii in range(0,1111):\n",
    "    a.append(ii)"
   ]
  },
  {
   "cell_type": "markdown",
   "metadata": {},
   "source": [
    "**Ex 2**: Show that you understand [slicing](http://stackoverflow.com/questions/509211/explain-pythons-slice-notation) in Python by extracting a list `b` with the numbers from $543$ to $779$ from the list created above."
   ]
  },
  {
   "cell_type": "code",
   "execution_count": 41,
   "metadata": {
    "collapsed": false
   },
   "outputs": [],
   "source": [
    "b = a[543:780]"
   ]
  },
  {
   "cell_type": "markdown",
   "metadata": {},
   "source": [
    "**Ex 3**: Using `def`, define a function that takes as input a number $x$ and outputs the number multiplied by itself plus three $f(x) = x(x+3)$. "
   ]
  },
  {
   "cell_type": "code",
   "execution_count": 42,
   "metadata": {
    "collapsed": false
   },
   "outputs": [
    {
     "data": {
      "text/plain": [
       "18"
      ]
     },
     "execution_count": 42,
     "metadata": {},
     "output_type": "execute_result"
    }
   ],
   "source": [
    "#definition of function\n",
    "def multplus(x):\n",
    "    return x*(x+3)\n",
    "\n",
    "# testing the code\n",
    "multplus(3)"
   ]
  },
  {
   "cell_type": "markdown",
   "metadata": {},
   "source": [
    "**Ex 4**: Apply this function to every element of the list `b` using a `for` loop. "
   ]
  },
  {
   "cell_type": "code",
   "execution_count": 43,
   "metadata": {
    "collapsed": false
   },
   "outputs": [
    {
     "name": "stdout",
     "output_type": "stream",
     "text": [
      "b initial:         [543, 544, 545, 546, 547]\n",
      "b after mutation:  [296478, 297568, 298660, 299754, 300850]\n"
     ]
    }
   ],
   "source": [
    "# before\n",
    "print \"b initial:        \", b[:5]\n",
    "# make for loop\n",
    "for i, elem in enumerate(b):\n",
    "    b[i] = multplus(elem)\n",
    "\n",
    "# test code on some indexes of b\n",
    "print \"b after mutation: \", b[:5]"
   ]
  },
  {
   "cell_type": "markdown",
   "metadata": {},
   "source": [
    "**Ex 5**: Do the same thing using a list comprehension."
   ]
  },
  {
   "cell_type": "code",
   "execution_count": 44,
   "metadata": {
    "collapsed": false
   },
   "outputs": [],
   "source": [
    "b = [multplus(elem) for elem in b]"
   ]
  },
  {
   "cell_type": "markdown",
   "metadata": {},
   "source": [
    "**Ex 6**: Write the output of your function to a text file with one number per line."
   ]
  },
  {
   "cell_type": "code",
   "execution_count": 45,
   "metadata": {
    "collapsed": true
   },
   "outputs": [],
   "source": [
    "# Writing funtion output to .txt-file, one # pr. line\n",
    "my_text = open(\"Funtion_result.txt\", \"w\")\n",
    "my_text\n",
    "for piece in b:\n",
    "        my_text.write(str(piece) + '\\n')\n",
    "\n",
    "my_text.close()"
   ]
  },
  {
   "cell_type": "markdown",
   "metadata": {},
   "source": [
    "**Ex 7**: Show that you know about strings using this example from http://learnpythonthehardway.org/book/ex6.html (code reproduced below).\n",
    "\n",
    "1. Go through the code below and write a code comment above each line explaining it.\n",
    "1. Find all the places where a string is put inside a string. There are four places.\n",
    "1. Are you sure there are only four places? How do you know? Maybe I like lying.\n",
    "1. Explain why adding the two strings w and e with + makes a longer string.\n",
    "\n",
    "\n",
    "[**Hint**: If you feel this is too complex, try completing the prior learningthehardway exercises first. Start [here](http://learnpythonthehardway.org/book/ex1.html). "
   ]
  },
  {
   "cell_type": "code",
   "execution_count": 46,
   "metadata": {
    "collapsed": false
   },
   "outputs": [
    {
     "name": "stdout",
     "output_type": "stream",
     "text": [
      "There are 10 types of people.\n",
      "Those who know binary and those who don't.\n",
      "I said: 'There are 10 types of people.'.\n",
      "I also said: 'Those who know binary and those who don't.'.\n",
      "Isn't that joke so funny?! False\n",
      "This is the left side of...a string with a right side.\n"
     ]
    }
   ],
   "source": [
    "# Note from Sune: In Python, code comments follow the \"#\" character\n",
    "\n",
    "# formatting the string with %d to replace it with the digit 10 in the string \n",
    "# result: There are 10 types of people.\n",
    "x = \"There are %d types of people.\" % 10                                                                           # str + int\n",
    "# Creating 2 strings\n",
    "binary = \"binary\"\n",
    "do_not = \"don't\"\n",
    "# using said strings to format y with type-specific input (strings) \n",
    "# result: Those who know binary and those who don't.\n",
    "y = \"Those who know %s and those who %s.\" % (binary, do_not)                                                            # HEREx2\n",
    "\n",
    "#printing the results \n",
    "print x\n",
    "print y\n",
    "\n",
    "# Adding the formatted string to the print statements\n",
    "print \"I said: %r.\" % x         # result: I said: 'There are 10 types of people.'.                                      #HERE\n",
    "print \"I also said: '%s'.\" % y  # result: I also said: 'Those who know binary and those who don't.'.                    #HERE\n",
    "# remember the difference in using repr() and str() (string does not add the '' in the string, they are added manually)\n",
    "\n",
    "# initializing boolean variable\n",
    "hilarious = False\n",
    "\n",
    "#initialising joke_evaluation variable\n",
    "joke_evaluation = \"Isn't that joke so funny?! %r\"                                                                   \n",
    "\n",
    "# evaluating joke by inserting the value of False -- no '' - not a string\n",
    "print joke_evaluation % hilarious                                                                                   #str + bool\n",
    "\n",
    "w = \"This is the left side of...\"\n",
    "e = \"a string with a right side.\"\n",
    "\n",
    "# Concatenation of two strings.\n",
    "# since these strings are 'only' concatenated (with the +) there are no '' as with %r.\n",
    "print w + e                                                                                                             #HERE"
   ]
  },
  {
   "cell_type": "markdown",
   "metadata": {},
   "source": [
    "*[Write the answer to **Ex 7**, 2-4 here]*"
   ]
  },
  {
   "cell_type": "markdown",
   "metadata": {},
   "source": [
    "**Ex 8**: First, learn about JSON by reading the **[wikipedia page](https://en.wikipedia.org/wiki/JSON)**. Then answer the following two questions in the cell below. \n",
    "\n",
    "* What is `json`? What do the letters stand for?\n",
    "  * JSON, or **JavaScript Object Notation** is a standard format for transmitting data in a format which is human readable. \n",
    "  * As of now, it is used most commonly for server/browser communication. \n",
    "  * JSON is language independent and derived from [JavaScript](https://en.wikipedia.org/wiki/JavaScript) \n",
    "  * **Bonus**\n",
    "    * File extension **.json**\n",
    "    * Largely replacing XML\n",
    "    * There are some portability issues JSON/JavaScript, but browsers are starting to support JSON and have native encoding and decoding\n",
    "* Why is `json` superior to `xml`? (... or why not?)\n",
    "Using [this slightly biased source](http://www.json.org/xml.html) the following can be said in the XML/JSON debate:\n",
    "\n",
    "Most of the excitement around XML is around a new role as an interchangeable data serialization format. XML provides two enormous advantages as a data representation language:\n",
    "\n",
    "  * It is text-based.\n",
    "  * It is position-independent.\n",
    "\n",
    "*But XML is not well-suited for data-interchange and does not match the data model for a lot of programming languages*\n",
    "\n",
    "**Simplicity** - XML is simpler than SGML, but JSON is much simpler than XML. JSON has a much smaller grammar and maps more directly onto the data structures used in modern programming languages.\n",
    "\n",
    "**Extensibility** - JSON is not extensible because it does not need to be. JSON is not a document markup language, so it is not necessary to define new tags or attributes to represent data in it.\n",
    "\n",
    "**Interoperability** - JSON has the same interoperability potential as XML.\n",
    "\n",
    "**Openness** -JSON is at least as open as XML, perhaps more so because it is not in the center of corporate/political standardization struggles.\n",
    "\n",
    "*There's a lot more where that came from, I just listed some of the advantages.*\n",
    "_______________________________________________________________________________________________________________________"
   ]
  },
  {
   "cell_type": "markdown",
   "metadata": {},
   "source": [
    "*[Write your answer to **Ex 8** here]*"
   ]
  },
  {
   "cell_type": "markdown",
   "metadata": {},
   "source": [
    "**Ex 9a**: Use the `json` module (instructions on usage here: https://docs.python.org/2.7/library/json.html). \n",
    "\n",
    "First use `urllib2` (https://docs.python.org/2.7/howto/urllib2.html), or another Python library, to download **[this file](https://raw.githubusercontent.com/suneman/socialgraphs2016/master/files/test.json)**. \n",
    "\n",
    "The downloaded file is a string when you first download it, but you can use the `json` library to \"load\" the string and decode it to a Python object, using `json.loads()`. (The decoded string is a python object, a list with a single element, a dictionary (with nested dictionaries inside it))."
   ]
  },
  {
   "cell_type": "code",
   "execution_count": 51,
   "metadata": {
    "collapsed": true
   },
   "outputs": [],
   "source": [
    "# Importing needed libraries\n",
    "import json    \n",
    "import urllib2\n",
    "\n",
    "json_dict = '{\"created_at\": \"2015-08-24T08:32:44Z\", \"trends\": [{\"url\": \"http://twitter.com/search?q=%23rfcvff\", \"query\": \"%23rfcvff\", \"name\": \"#rfcvff\", \"promoted_content\": null}, {\"url\": \"http://twitter.com/search?q=%23EFBFCM\", \"query\": \"%23EFBFCM\", \"name\": \"#EFBFCM\", \"promoted_content\": null}, {\"url\": \"http://twitter.com/search?q=%23bifsje\", \"query\": \"%23bifsje\", \"name\": \"#bifsje\", \"promoted_content\": null}, {\"url\": \"http://twitter.com/search?q=nordstrand\", \"query\": \"nordstrand\", \"name\": \"nordstrand\", \"promoted_content\": null}, {\"url\": \"http://twitter.com/search?q=%23WhyILoveLiam\", \"query\": \"%23WhyILoveLiam\", \"name\": \"#WhyILoveLiam\", \"promoted_content\": null}, {\"url\": \"http://twitter.com/search?q=%23lv2015\", \"query\": \"%23lv2015\", \"name\": \"#lv2015\", \"promoted_content\": null}, {\"url\": \"http://twitter.com/search?q=%22Harald+Nielsen%22\", \"query\": \"%22Harald+Nielsen%22\", \"name\": \"Harald Nielsen\", \"promoted_content\": null}, {\"url\": \"http://twitter.com/search?q=Fnatic\", \"query\": \"Fnatic\", \"name\": \"Fnatic\", \"promoted_content\": null}, {\"url\": \"http://twitter.com/search?q=Nash\", \"query\": \"Nash\", \"name\": \"Nash\", \"promoted_content\": null}, {\"url\": \"http://twitter.com/search?q=kjeldsen\", \"query\": \"kjeldsen\", \"name\": \"kjeldsen\", \"promoted_content\": null}], \"as_of\": \"2015-08-24T08:36:54Z\", \"locations\": [{\"woeid\": 23424796, \"name\": \"Denmark\"}]}'\n",
    "resp = json.loads(json_dict)\n",
    "\n",
    "# tried this, works too as a list\n",
    "#response = urllib2.urlopen(\"https://dl.dropboxusercontent.com/u/153071/test.json\")\n",
    "#jdata = json.load(response)"
   ]
  },
  {
   "cell_type": "markdown",
   "metadata": {},
   "source": [
    "**Ex 9b**: Now, let's take a look at the file you downloaded. First, just write the name of the variable that contains the decoded file content and hit enter to take a look at it. It's  the list of Twitter Trending topics, a few days ago."
   ]
  },
  {
   "cell_type": "code",
   "execution_count": 48,
   "metadata": {
    "collapsed": false
   },
   "outputs": [
    {
     "name": "stdout",
     "output_type": "stream",
     "text": [
      "{\n",
      " \"locations\": [\n",
      "  {\n",
      "   \"woeid\": 23424796, \n",
      "   \"name\": \"Denmark\"\n",
      "  }\n",
      " ], \n",
      " \"created_at\": \"2015-08-24T08:32:44Z\", \n",
      " \"trends\": [\n",
      "  {\n",
      "   \"url\": \"http://twitter.com/search?q=%23rfcvff\", \n",
      "   \"query\": \"%23rfcvff\", \n",
      "   \"name\": \"#rfcvff\", \n",
      "   \"promoted_content\": null\n",
      "  }, \n",
      "  {\n",
      "   \"url\": \"http://twitter.com/search?q=%23EFBFCM\", \n",
      "   \"query\": \"%23EFBFCM\", \n",
      "   \"name\": \"#EFBFCM\", \n",
      "   \"promoted_content\": null\n",
      "  }, \n",
      "  {\n",
      "   \"url\": \"http://twitter.com/search?q=%23bifsje\", \n",
      "   \"query\": \"%23bifsje\", \n",
      "   \"name\": \"#bifsje\", \n",
      "   \"promoted_content\": null\n",
      "  }, \n",
      "  {\n",
      "   \"url\": \"http://twitter.com/search?q=nordstrand\", \n",
      "   \"query\": \"nordstrand\", \n",
      "   \"name\": \"nordstrand\", \n",
      "   \"promoted_content\": null\n",
      "  }, \n",
      "  {\n",
      "   \"url\": \"http://twitter.com/search?q=%23WhyILoveLiam\", \n",
      "   \"query\": \"%23WhyILoveLiam\", \n",
      "   \"name\": \"#WhyILoveLiam\", \n",
      "   \"promoted_content\": null\n",
      "  }, \n",
      "  {\n",
      "   \"url\": \"http://twitter.com/search?q=%23lv2015\", \n",
      "   \"query\": \"%23lv2015\", \n",
      "   \"name\": \"#lv2015\", \n",
      "   \"promoted_content\": null\n",
      "  }, \n",
      "  {\n",
      "   \"url\": \"http://twitter.com/search?q=%22Harald+Nielsen%22\", \n",
      "   \"query\": \"%22Harald+Nielsen%22\", \n",
      "   \"name\": \"Harald Nielsen\", \n",
      "   \"promoted_content\": null\n",
      "  }, \n",
      "  {\n",
      "   \"url\": \"http://twitter.com/search?q=Fnatic\", \n",
      "   \"query\": \"Fnatic\", \n",
      "   \"name\": \"Fnatic\", \n",
      "   \"promoted_content\": null\n",
      "  }, \n",
      "  {\n",
      "   \"url\": \"http://twitter.com/search?q=Nash\", \n",
      "   \"query\": \"Nash\", \n",
      "   \"name\": \"Nash\", \n",
      "   \"promoted_content\": null\n",
      "  }, \n",
      "  {\n",
      "   \"url\": \"http://twitter.com/search?q=kjeldsen\", \n",
      "   \"query\": \"kjeldsen\", \n",
      "   \"name\": \"kjeldsen\", \n",
      "   \"promoted_content\": null\n",
      "  }\n",
      " ], \n",
      " \"as_of\": \"2015-08-24T08:36:54Z\"\n",
      "}\n"
     ]
    }
   ],
   "source": [
    "# makes list\n",
    "#type(jdict)\n",
    "print json.dumps(resp, indent=1)\n",
    "#type(resp)"
   ]
  },
  {
   "cell_type": "markdown",
   "metadata": {},
   "source": [
    "**Ex 9c**: The thing you've just decoded is now a list of length 1. What are the names of the keys organizing the dictionary at position 0 in the list? (Just write the code to produce the answer.) \n",
    "\n",
    "**Hint** use the `.keys()` method to easily get the keys of any dictionary."
   ]
  },
  {
   "cell_type": "code",
   "execution_count": 49,
   "metadata": {
    "collapsed": false
   },
   "outputs": [
    {
     "data": {
      "text/plain": [
       "[u'locations', u'created_at', u'trends', u'as_of']"
      ]
     },
     "execution_count": 49,
     "metadata": {},
     "output_type": "execute_result"
    }
   ],
   "source": [
    "# The different keys\n",
    "resp.keys()"
   ]
  },
  {
   "cell_type": "markdown",
   "metadata": {},
   "source": [
    "**Ex 9d**: Two small questions \n",
    "* What time did I create the list of Trending Topics?\n",
    "* Print the names of the trending topics (bonus for using a list comprehension)\n",
    "\n",
    "(Just write the code to produce the answer.)"
   ]
  },
  {
   "cell_type": "code",
   "execution_count": 50,
   "metadata": {
    "collapsed": false
   },
   "outputs": [
    {
     "name": "stdout",
     "output_type": "stream",
     "text": [
      "Time of creation: 2015-08-24T08:32:44Z\n",
      "\n",
      "#rfcvff\n",
      "#EFBFCM\n",
      "#bifsje\n",
      "nordstrand\n",
      "#WhyILoveLiam\n",
      "#lv2015\n",
      "Harald Nielsen\n",
      "Fnatic\n",
      "Nash\n",
      "kjeldsen\n"
     ]
    }
   ],
   "source": [
    "# Time of creation\n",
    "print (\"Time of creation: %s\\n\" % resp['created_at'])\n",
    "\n",
    "# get the list of trends\n",
    "trends = resp['trends']\n",
    "\n",
    "# print the name of each trend\n",
    "for trend in trends:\n",
    "    print trend['name']"
   ]
  },
  {
   "cell_type": "markdown",
   "metadata": {},
   "source": [
    "**Ex 9e**: Two more small questions\n",
    "* Go on-line and figure out why there's a `u` in front of every string. Write the answer in your own words. (Hint it has to do with strings in Python).\n",
    "* What's going on with all of the `%22` and `%23`? Go on-line and figure it out. Write the answer in your own words. (Hint: It has to do with HTML URL encoding)"
   ]
  },
  {
   "cell_type": "markdown",
   "metadata": {},
   "source": [
    "*[Write your answer to **Ex 9e** here]*"
   ]
  },
  {
   "cell_type": "markdown",
   "metadata": {
    "collapsed": true
   },
   "source": [
    "**Answer** \n",
    "\n",
    "* The u infront of the items signifies that the string that has come out of the parsed file is a *unicode string*. It only appears here, not in the data.\n",
    "* URL encoding replaces *unsafe* ASCII characters with a \"%\" followed by two hexadecimal digits. [Here](http://www.w3schools.com/tags/ref_urlencode.asp) is the entire list of what the different characters replaces.\n",
    "* PS: %22 = \", %23 = #.\n",
    "\n",
    "______________________________________________________________________________________________________________________________"
   ]
  },
  {
   "cell_type": "markdown",
   "metadata": {},
   "source": [
    "**Chapter 1:** Answer these simple questions to show that you have read the text\n",
    "* Describe in your own words Joel's approach to finding key connectors.\n",
    "  * Finding patterns in the data you are given/find, friends, connections similarities between the observations etc.\n",
    "* What is the meaning of node-size in Figure 1-2?\n",
    "  * The node size increases with the centrality of the node (the connections to other nodes)"
   ]
  },
  {
   "cell_type": "markdown",
   "metadata": {},
   "source": [
    "**Chapter 2:** Answer these simple questions in to show that you have read the text\n",
    "* In one line of text, what is the point of Python modules?\n",
    "  * Getting functionality/logic written by others to solve your problems instead of having to code it yourself.\n",
    "* Why does Joel use from __future__ import division? \n",
    "  * To get specific math tools\n",
    "* How are tuples different from lists?\n",
    "  * Tupels are pairs\n",
    "* Describe in your own words the purpose of generators.\n",
    "  * To iterate over list i.e. for loop"
   ]
  },
  {
   "cell_type": "markdown",
   "metadata": {},
   "source": [
    "**Chapter 3:** Carry out these simple exercises & answer a few simple questions in to show that you have read the text\n",
    "* Create your own version of Figure 3-1, but change the values, axes-labels, and the plot title. Just add the plot to the bottom of the notebook you've already been working for Part 3 of today's lecture.\n"
   ]
  },
  {
   "cell_type": "code",
   "execution_count": 63,
   "metadata": {
    "collapsed": false
   },
   "outputs": [
    {
     "data": {
      "image/png": "[encoded data removed]",
      "text/plain": [
       "<matplotlib.figure.Figure at 0x8a0abe0>"
      ]
     },
     "metadata": {},
     "output_type": "display_data"
    }
   ],
   "source": [
    "from matplotlib import pyplot as plt\n",
    "%matplotlib inline\n",
    "years = [1950, 1960, 1970, 1980, 1990, 2000, 2010]\n",
    "gdp = [300.2, 543.3, 1075.9, 2862.5, 5979.6, 10289.7, 14958.3]\n",
    "\n",
    "# create a line chart, years on x-axis, gdp on y-axis\n",
    "plt.plot(years, gdp, color='blue', marker='*', linestyle='solid')\n",
    "\n",
    "plt.title(\"Bruttonationalprodukt\")    # add a title\n",
    "plt.ylabel(\"Millions, DKK\") # add a label to the y-axis\n",
    "plt.show()"
   ]
  },
  {
   "cell_type": "markdown",
   "metadata": {},
   "source": [
    "* Create your own version of Figure 3-2, but change the values, axes-labels, and the plot title. Just add the plot to the bottom of the notebook you've already been working for Part 3 of today's lecture"
   ]
  },
  {
   "cell_type": "code",
   "execution_count": 64,
   "metadata": {
    "collapsed": false
   },
   "outputs": [
    {
     "data": {
      "image/png": "[encoded data removed]",
      "text/plain": [
       "<matplotlib.figure.Figure at 0x877acc0>"
      ]
     },
     "metadata": {},
     "output_type": "display_data"
    }
   ],
   "source": [
    "movies = [\"Annie Hall\", \"Ben-Hur\", \"Casablanca\", \"Gandhi\", \"West Side Story\"]\n",
    "num_oscars = [5, 11, 3, 8, 10]\n",
    "# bars are by default width 0.8, so we'll add 0.1 to the left coordinates\n",
    "# so that each bar is centered\n",
    "xs = [i + 0.1 for i, _ in enumerate(movies)]\n",
    "# plot bars with left x-coordinates [xs], heights [num_oscars]\n",
    "plt.bar(xs, num_oscars)\n",
    "plt.ylabel(\"# of Academy Awards\")\n",
    "plt.title(\"My Favorite Movies\")\n",
    "# label x-axis with movie names at bar centers\n",
    "plt.xticks([i + 0.5 for i, _ in enumerate(movies)], movies)\n",
    "plt.show()"
   ]
  },
  {
   "cell_type": "markdown",
   "metadata": {},
   "source": [
    "* What's the problem with the plot in Figure 3-4? Use Google (or your memory) find an example of this type of abuse on the internet and include it in your Notebook.\n",
    "  * The data is not representative. There are too few observations."
   ]
  },
  {
   "cell_type": "markdown",
   "metadata": {},
   "source": [
    "* Create your own version of Figure 3-9 and add to the notebook. Explain in your own words why 3-9 is a better representation of the data than 3-8."
   ]
  },
  {
   "cell_type": "code",
   "execution_count": 69,
   "metadata": {
    "collapsed": false
   },
   "outputs": [
    {
     "data": {
      "image/png": "[encoded data removed]",
      "text/plain": [
       "<matplotlib.figure.Figure at 0x80c6320>"
      ]
     },
     "metadata": {},
     "output_type": "display_data"
    }
   ],
   "source": [
    "test_1_grades = [ 99, 90, 85, 97, 80]\n",
    "test_2_grades = [100, 85, 60, 90, 70]\n",
    "plt.scatter(test_1_grades, test_2_grades)\n",
    "plt.title(\"Comparable Axes\")\n",
    "plt.xlabel(\"test 1 grade\")\n",
    "plt.ylabel(\"test 2 grade\")\n",
    "plt.axis(\"equal\")\n",
    "plt.show()"
   ]
  },
  {
   "cell_type": "markdown",
   "metadata": {},
   "source": [
    "It is easier for the viewer to conclude anything correctly when the axes are equal. It is easy to misinterpret the result when you don't compare on \"equal terms\". No it is easier to see whether a student did equally good/bad in the two tests or not and drawing conclusion as to whether one of the test went better than the other is an easy task."
   ]
  },
  {
   "cell_type": "markdown",
   "metadata": {},
   "source": [
    "## Obejct Oriented Python - some quick comments"
   ]
  },
  {
   "cell_type": "code",
   "execution_count": 54,
   "metadata": {
    "collapsed": false
   },
   "outputs": [
    {
     "name": "stdout",
     "output_type": "stream",
     "text": [
      "True\n",
      "False\n"
     ]
    }
   ],
   "source": [
    "    # by convention, we give classes PascalCase names\n",
    "    class Set:\n",
    "        # these are the member functions\n",
    "        # every one takes a first parameter \"self\" (another convention)\n",
    "        # that refers to the particular Set object being used\n",
    "\n",
    "        def __init__(self, values=None):\n",
    "            \"\"\"This is the constructor.\n",
    "            It gets called when you create a new Set.\n",
    "            You would use it like\n",
    "            s1 = Set() # empty set\n",
    "            s2 = Set([1,2,2,3]) # initialize with values\"\"\"\n",
    "\n",
    "            self.dict = {} # each instance of Set has its own dict property\n",
    "                           # which is what we'll use to track memberships\n",
    "            if values is not None:\n",
    "                for value in values:\n",
    "                    self.add(value)\n",
    "        \n",
    "        def __repr__(self):\n",
    "            \"\"\"this is the string representation of a Set object\n",
    "            if you type it at the Python prompt or pass it to str()\"\"\"\n",
    "            return \"Set: \" + str(self.dict.keys())\n",
    "\n",
    "        # we'll represent membership by being a key in self.dict with value True\n",
    "        def add(self, value):\n",
    "            self.dict[value] = True\n",
    "\n",
    "        # value is in the Set if it's a key in the dictionary\n",
    "        def contains(self, value):\n",
    "            return value in self.dict\n",
    "\n",
    "        def remove(self, value):\n",
    "            del self.dict[value]\n",
    "            \n",
    "# TESTING\n",
    "s = Set([1,2,3])\n",
    "s.add(4)\n",
    "print s.contains(4) # True\n",
    "s.remove(3)\n",
    "print s.contains(3) # False"
   ]
  },
  {
   "cell_type": "markdown",
   "metadata": {
    "collapsed": true
   },
   "source": [
    "### Working on Machine Learning test data\n",
    "Data Science From Scratch"
   ]
  },
  {
   "cell_type": "markdown",
   "metadata": {},
   "source": [
    "Generating data"
   ]
  },
  {
   "cell_type": "code",
   "execution_count": null,
   "metadata": {
    "collapsed": true
   },
   "outputs": [],
   "source": [
    "def split_data(data, prob):\n",
    "\"\"\"split data into fractions [prob, 1 - prob]\"\"\"\n",
    "results = [], []\n",
    "for row in data:\n",
    "results[0 if random.random() < prob else 1].append(row)\n",
    "return results"
   ]
  },
  {
   "cell_type": "markdown",
   "metadata": {},
   "source": [
    "Split og test and training data"
   ]
  },
  {
   "cell_type": "code",
   "execution_count": null,
   "metadata": {
    "collapsed": true
   },
   "outputs": [],
   "source": [
    "def train_test_split(x, y, test_pct):\n",
    "data = zip(x, y) # pair corresponding values\n",
    "train, test = split_data(data, 1 - test_pct) # split the data set of pairs\n",
    "x_train, y_train = zip(*train) # magical un-zip trick\n",
    "x_test, y_test = zip(*test)\n",
    "return x_train, x_test, y_train, y_test"
   ]
  },
  {
   "cell_type": "markdown",
   "metadata": {},
   "source": [
    "Data in the model"
   ]
  },
  {
   "cell_type": "code",
   "execution_count": null,
   "metadata": {
    "collapsed": true
   },
   "outputs": [],
   "source": [
    "model = SomeKindOfModel()\n",
    "x_train, x_test, y_train, y_test = train_test_split(xs, ys, 0.33)\n",
    "model.train(x_train, y_train)\n",
    "performance = model.test(x_test, y_test)"
   ]
  },
  {
   "cell_type": "markdown",
   "metadata": {},
   "source": [
    "Calculating accuracy "
   ]
  },
  {
   "cell_type": "code",
   "execution_count": 3,
   "metadata": {
    "collapsed": false
   },
   "outputs": [
    {
     "name": "stdout",
     "output_type": "stream",
     "text": [
      "0\n"
     ]
    }
   ],
   "source": [
    "def accuracy(tp, fp, fn, tn):\n",
    "    correct = tp + tn\n",
    "    total = tp + fp + fn + tn\n",
    "    return correct / total\n",
    "print accuracy(70, 4930, 13930, 981070) # 0.98114"
   ]
  },
  {
   "cell_type": "markdown",
   "metadata": {},
   "source": [
    "Calculating precision"
   ]
  },
  {
   "cell_type": "code",
   "execution_count": 5,
   "metadata": {
    "collapsed": false
   },
   "outputs": [
    {
     "name": "stdout",
     "output_type": "stream",
     "text": [
      "0\n"
     ]
    }
   ],
   "source": [
    "def precision(tp, fp, fn, tn):\n",
    "    return tp / (tp + fp)\n",
    "print precision(70, 4930, 13930, 981070)"
   ]
  },
  {
   "cell_type": "markdown",
   "metadata": {},
   "source": [
    "Recall - fraction of the positives our model identified"
   ]
  },
  {
   "cell_type": "code",
   "execution_count": 6,
   "metadata": {
    "collapsed": false
   },
   "outputs": [
    {
     "name": "stdout",
     "output_type": "stream",
     "text": [
      "0\n"
     ]
    }
   ],
   "source": [
    "def recall(tp, fp, fn, tn):\n",
    "    return tp / (tp + fn)\n",
    "print recall(70, 4930, 13930, 981070)"
   ]
  },
  {
   "cell_type": "markdown",
   "metadata": {},
   "source": [
    "F!-score - precision and recall are combined into the F1 score, *the harmonic mean*"
   ]
  },
  {
   "cell_type": "code",
   "execution_count": null,
   "metadata": {
    "collapsed": true
   },
   "outputs": [],
   "source": [
    "def f1_score(tp, fp, fn, tn):\n",
    "    p = precision(tp, fp, fn, tn)\n",
    "    r = recall(tp, fp, fn, tn)\n",
    "return 2 * p * r / (p + r)"
   ]
  },
  {
   "cell_type": "markdown",
   "metadata": {},
   "source": [
    "Usually the choice of a model involves a trade-off between precision and recall. A\n",
    "model that predicts “yes” when it’s even a little bit confident will probably have a high\n",
    "recall but a low precision; a model that predicts “yes” only when it’s extremely confident\n",
    "is likely to have a low recall and a high precision."
   ]
  },
  {
   "cell_type": "markdown",
   "metadata": {},
   "source": [
    "### Bias and Variance"
   ]
  },
  {
   "cell_type": "markdown",
   "metadata": {},
   "source": [
    "High bias and low variance typically correspond to underfitting."
   ]
  },
  {
   "cell_type": "markdown",
   "metadata": {},
   "source": [
    "On the other hand, the degree 9 model fit the training set perfectly. It has very low\n",
    "bias but very high variance (since any two training sets would likely give rise to very\n",
    "different models). This corresponds to overfitting."
   ]
  },
  {
   "cell_type": "markdown",
   "metadata": {},
   "source": []
  }
 ],
 "metadata": {
  "anaconda-cloud": {},
  "kernelspec": {
   "display_name": "Python [Root]",
   "language": "python",
   "name": "Python [Root]"
  },
  "language_info": {
   "codemirror_mode": {
    "name": "ipython",
    "version": 2
   },
   "file_extension": ".py",
   "mimetype": "text/x-python",
   "name": "python",
   "nbconvert_exporter": "python",
   "pygments_lexer": "ipython2",
   "version": "2.7.12"
  }
 },
 "nbformat": 4,
 "nbformat_minor": 0
}
