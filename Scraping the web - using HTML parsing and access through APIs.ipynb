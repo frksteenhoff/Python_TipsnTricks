{
 "cells": [
  {
   "cell_type": "markdown",
   "metadata": {},
   "source": [
    "# Analyze and fetch - knowing what you want from data and asking for it "
   ]
  },
  {
   "cell_type": "markdown",
   "metadata": {},
   "source": [
    "On this page I will go through how to use Python for scraping the web with ``beautifulsoup`` and through API access. Some of my examples are strongly influenced by Joel Grus' work in the book \"Data Science From Scratch\" by O'Reilly.\n",
    "\n",
    "I will try to make examples from sites returning both ``JSON`` and ``XML`` for the API-retrievals.\n",
    "\n",
    "These walk-throughs do not aim at teaching you the theory behind the examples, if you need some more information in order to understand the code, I recommend that you seek out documentation and or literature. These examples expect a certain knowledge of programming and Python."
   ]
  },
  {
   "cell_type": "markdown",
   "metadata": {},
   "source": [
    "### Packages\n",
    "\n",
    "If you do not already have ``beautifulsoup4``, ``requests`` and ``html5lib`` I strongly recommend that you start out by taking the time to install them. It very simple, from your terminal, for each package:\n",
    "> ``pip install <packagename>``\n",
    "\n",
    "Then we should be ready!"
   ]
  },
  {
   "cell_type": "code",
   "execution_count": null,
   "metadata": {
    "collapsed": true
   },
   "outputs": [],
   "source": [
    "# Imports\n",
    "from bs4 import BeautifulSoup as bs\n",
    "import requests"
   ]
  },
  {
   "cell_type": "code",
   "execution_count": null,
   "metadata": {
    "collapsed": true
   },
   "outputs": [],
   "source": [
    "# Getting data from webpage\n",
    "url = '' # URL for the webpage you want content from\n",
    "html = requests.get(url).text\n",
    "soup = BeautifulSoup(html, 'html5lib')"
   ]
  },
  {
   "cell_type": "markdown",
   "metadata": {},
   "source": [
    "### I have the content, now what?\n",
    "\n",
    "I think the reason why you looked further into thses examples was because you needed to do something with some specific data from some webpage. Maybe you already know exactly what you need, but you are unsure how to do so? Here are some tips and tricks as to how to retrive information from ``Tag`` objects within your source html. Here are some examples:"
   ]
  },
  {
   "cell_type": "code",
   "execution_count": null,
   "metadata": {
    "collapsed": true
   },
   "outputs": [],
   "source": [
    "# Get first paragraph (<p> element)\n",
    "first_p = soup.find('p')\n",
    "\n",
    "# To work with the content as text, use the text property\n",
    "first_p_text = soup.p.text"
   ]
  },
  {
   "cell_type": "code",
   "execution_count": null,
   "metadata": {
    "collapsed": true
   },
   "outputs": [],
   "source": [
    "# Get all paragraphs\n",
    "all_p = soup.findall('p')"
   ]
  },
  {
   "cell_type": "markdown",
   "metadata": {},
   "source": [
    "Often in HTML you have different tags nested inside one another, these can also be exracted with a little more work"
   ]
  },
  {
   "cell_type": "code",
   "execution_count": null,
   "metadata": {
    "collapsed": true
   },
   "outputs": [],
   "source": [
    "# Tags within a specific class\n",
    "important_p = soup('p', {'class' : 'important'})"
   ]
  },
  {
   "cell_type": "code",
   "execution_count": null,
   "metadata": {
    "collapsed": true
   },
   "outputs": [],
   "source": [
    "# Spans inside divs\n",
    "span_in_div = [span\n",
    "              for div in soup('div')    # for div on page\n",
    "              for span in soup('span')] # find span on page"
   ]
  },
  {
   "cell_type": "markdown",
   "metadata": {},
   "source": []
  },
  {
   "cell_type": "code",
   "execution_count": null,
   "metadata": {
    "collapsed": true
   },
   "outputs": [],
   "source": []
  },
  {
   "cell_type": "code",
   "execution_count": null,
   "metadata": {
    "collapsed": true
   },
   "outputs": [],
   "source": []
  },
  {
   "cell_type": "code",
   "execution_count": null,
   "metadata": {
    "collapsed": true
   },
   "outputs": [],
   "source": []
  },
  {
   "cell_type": "code",
   "execution_count": null,
   "metadata": {
    "collapsed": true
   },
   "outputs": [],
   "source": []
  },
  {
   "cell_type": "code",
   "execution_count": null,
   "metadata": {
    "collapsed": true
   },
   "outputs": [],
   "source": []
  }
 ],
 "metadata": {
  "anaconda-cloud": {},
  "kernelspec": {
   "display_name": "Python [Root]",
   "language": "python",
   "name": "Python [Root]"
  },
  "language_info": {
   "codemirror_mode": {
    "name": "ipython",
    "version": 2
   },
   "file_extension": ".py",
   "mimetype": "text/x-python",
   "name": "python",
   "nbconvert_exporter": "python",
   "pygments_lexer": "ipython2",
   "version": "2.7.12"
  }
 },
 "nbformat": 4,
 "nbformat_minor": 0
}
